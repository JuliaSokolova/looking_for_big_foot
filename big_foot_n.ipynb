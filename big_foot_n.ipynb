{
 "cells": [
  {
   "cell_type": "code",
   "execution_count": 25,
   "metadata": {},
   "outputs": [],
   "source": [
    "import pandas as pd\n",
    "import matplotlib.pyplot as plt\n",
    "%matplotlib inline\n",
    "from numpy.linalg import svd"
   ]
  },
  {
   "cell_type": "code",
   "execution_count": 2,
   "metadata": {},
   "outputs": [
    {
     "name": "stdout",
     "output_type": "stream",
     "text": [
      "big_foot.csv          bigfoot_data.json     bigfoot_data.json.zip\r\n"
     ]
    }
   ],
   "source": [
    "!ls data/"
   ]
  },
  {
   "cell_type": "code",
   "execution_count": 3,
   "metadata": {},
   "outputs": [],
   "source": [
    "df = pd.read_csv(\"data/big_foot.csv\")"
   ]
  },
  {
   "cell_type": "code",
   "execution_count": 4,
   "metadata": {},
   "outputs": [
    {
     "data": {
      "text/html": [
       "<div>\n",
       "<style scoped>\n",
       "    .dataframe tbody tr th:only-of-type {\n",
       "        vertical-align: middle;\n",
       "    }\n",
       "\n",
       "    .dataframe tbody tr th {\n",
       "        vertical-align: top;\n",
       "    }\n",
       "\n",
       "    .dataframe thead th {\n",
       "        text-align: right;\n",
       "    }\n",
       "</style>\n",
       "<table border=\"1\" class=\"dataframe\">\n",
       "  <thead>\n",
       "    <tr style=\"text-align: right;\">\n",
       "      <th></th>\n",
       "      <th>Unnamed: 0</th>\n",
       "      <th>year</th>\n",
       "      <th>season</th>\n",
       "      <th>month</th>\n",
       "      <th>state</th>\n",
       "      <th>county</th>\n",
       "      <th>location details</th>\n",
       "      <th>nearest town</th>\n",
       "      <th>nearest road</th>\n",
       "      <th>observed</th>\n",
       "      <th>also noticed</th>\n",
       "      <th>other witnesses</th>\n",
       "      <th>other stories</th>\n",
       "      <th>time and conditions</th>\n",
       "      <th>environment</th>\n",
       "      <th>extra</th>\n",
       "      <th>date</th>\n",
       "      <th>see photos from silver star mountain</th>\n",
       "      <th>country</th>\n",
       "      <th>province</th>\n",
       "    </tr>\n",
       "  </thead>\n",
       "  <tbody>\n",
       "    <tr>\n",
       "      <th>0</th>\n",
       "      <td>0</td>\n",
       "      <td>2004</td>\n",
       "      <td>Winter</td>\n",
       "      <td>February</td>\n",
       "      <td>Alaska</td>\n",
       "      <td>Anchorage County</td>\n",
       "      <td>Up near powerline clearings east of Potter Mar...</td>\n",
       "      <td>Anchorage / Hillside</td>\n",
       "      <td>No real roads in the area</td>\n",
       "      <td>I and two of my friends were bored one night s...</td>\n",
       "      <td>Some tracks in the snow, and a clearing in the...</td>\n",
       "      <td>My two friends were snowmachining behind me bu...</td>\n",
       "      <td>I have not heard of any other incidents in Anc...</td>\n",
       "      <td>Middle of the night. The only light was the he...</td>\n",
       "      <td>In the middle of the woods, in a clearing cove...</td>\n",
       "      <td>Follow-up investigation report by BFRO Investi...</td>\n",
       "      <td>NaN</td>\n",
       "      <td>NaN</td>\n",
       "      <td>NaN</td>\n",
       "      <td>NaN</td>\n",
       "    </tr>\n",
       "    <tr>\n",
       "      <th>1</th>\n",
       "      <td>1</td>\n",
       "      <td>2003</td>\n",
       "      <td>Winter</td>\n",
       "      <td>December</td>\n",
       "      <td>Alaska</td>\n",
       "      <td>Anchorage County</td>\n",
       "      <td>Few houses on the way, a power relay station. ...</td>\n",
       "      <td>Anchorage</td>\n",
       "      <td>Dowling</td>\n",
       "      <td>Me and a couple of friends had been bored, whe...</td>\n",
       "      <td>We smelled of colonge and after shave, and one...</td>\n",
       "      <td>4. Me, w-man, warren and sean. We were at my h...</td>\n",
       "      <td>no</td>\n",
       "      <td>Started at 11, ended at about 3-3 30. Weather ...</td>\n",
       "      <td>A pine forest, with a bog or swamp on the righ...</td>\n",
       "      <td>Follow-up investigation report by BFRO Investi...</td>\n",
       "      <td>Friday night</td>\n",
       "      <td>NaN</td>\n",
       "      <td>NaN</td>\n",
       "      <td>NaN</td>\n",
       "    </tr>\n",
       "    <tr>\n",
       "      <th>2</th>\n",
       "      <td>2</td>\n",
       "      <td>1998</td>\n",
       "      <td>Fall</td>\n",
       "      <td>September</td>\n",
       "      <td>Alaska</td>\n",
       "      <td>Bethel County</td>\n",
       "      <td>45 miles by air west of Lake Iliamna, Alaska i...</td>\n",
       "      <td>NaN</td>\n",
       "      <td>NaN</td>\n",
       "      <td>My hunting buddy and I were sitting on a ridge...</td>\n",
       "      <td>nothing unusual</td>\n",
       "      <td>Scouting for caribou with high quality binoculars</td>\n",
       "      <td>NaN</td>\n",
       "      <td>NaN</td>\n",
       "      <td>Call Iliamna Air taxi for lat &amp; Long of Long L...</td>\n",
       "      <td>NaN</td>\n",
       "      <td>3</td>\n",
       "      <td>NaN</td>\n",
       "      <td>NaN</td>\n",
       "      <td>NaN</td>\n",
       "    </tr>\n",
       "    <tr>\n",
       "      <th>3</th>\n",
       "      <td>3</td>\n",
       "      <td>2004</td>\n",
       "      <td>Summer</td>\n",
       "      <td>July</td>\n",
       "      <td>Alaska</td>\n",
       "      <td>Bristol Bay County</td>\n",
       "      <td>Approximately 95 miles east of Egegik, Alaska....</td>\n",
       "      <td>Egegik</td>\n",
       "      <td>NaN</td>\n",
       "      <td>To whom it may concern, I am a commercial fish...</td>\n",
       "      <td>Just these foot prints and how obvious it was ...</td>\n",
       "      <td>One other witness, and he was fishing prior to...</td>\n",
       "      <td>I've only heard of one other story, from an ol...</td>\n",
       "      <td>Approximately 12 30 pm, partially coudy/sunny.</td>\n",
       "      <td>Lake front,creek spit, gravel and sand, alder ...</td>\n",
       "      <td>Follow-up investigation report by BFRO Investi...</td>\n",
       "      <td>20</td>\n",
       "      <td>NaN</td>\n",
       "      <td>NaN</td>\n",
       "      <td>NaN</td>\n",
       "    </tr>\n",
       "    <tr>\n",
       "      <th>4</th>\n",
       "      <td>4</td>\n",
       "      <td>2000</td>\n",
       "      <td>Summer</td>\n",
       "      <td>June</td>\n",
       "      <td>Alaska</td>\n",
       "      <td>Cordova-McCarthy County</td>\n",
       "      <td>On the main trail toward the glacier, before t...</td>\n",
       "      <td>Kennikot, Alaska</td>\n",
       "      <td>not sure</td>\n",
       "      <td>My hiking partner and I arrived late to the Ke...</td>\n",
       "      <td>I did hear what appeared to be grunting in the...</td>\n",
       "      <td>I was the only witness, there was one other in...</td>\n",
       "      <td>None</td>\n",
       "      <td>About 12 00 Midnight / full moon / clear / dim...</td>\n",
       "      <td>This sighting was located at approximately 1 t...</td>\n",
       "      <td>Follow-up investigation report: Summary of com...</td>\n",
       "      <td>16</td>\n",
       "      <td>NaN</td>\n",
       "      <td>NaN</td>\n",
       "      <td>NaN</td>\n",
       "    </tr>\n",
       "  </tbody>\n",
       "</table>\n",
       "</div>"
      ],
      "text/plain": [
       "   Unnamed: 0  year  season      month   state                   county  \\\n",
       "0           0  2004  Winter   February  Alaska         Anchorage County   \n",
       "1           1  2003  Winter   December  Alaska         Anchorage County   \n",
       "2           2  1998    Fall  September  Alaska            Bethel County   \n",
       "3           3  2004  Summer       July  Alaska       Bristol Bay County   \n",
       "4           4  2000  Summer       June  Alaska  Cordova-McCarthy County   \n",
       "\n",
       "                                    location details          nearest town  \\\n",
       "0  Up near powerline clearings east of Potter Mar...  Anchorage / Hillside   \n",
       "1  Few houses on the way, a power relay station. ...             Anchorage   \n",
       "2  45 miles by air west of Lake Iliamna, Alaska i...                   NaN   \n",
       "3  Approximately 95 miles east of Egegik, Alaska....                Egegik   \n",
       "4  On the main trail toward the glacier, before t...      Kennikot, Alaska   \n",
       "\n",
       "                nearest road  \\\n",
       "0  No real roads in the area   \n",
       "1                    Dowling   \n",
       "2                        NaN   \n",
       "3                        NaN   \n",
       "4                   not sure   \n",
       "\n",
       "                                            observed  \\\n",
       "0  I and two of my friends were bored one night s...   \n",
       "1  Me and a couple of friends had been bored, whe...   \n",
       "2  My hunting buddy and I were sitting on a ridge...   \n",
       "3  To whom it may concern, I am a commercial fish...   \n",
       "4  My hiking partner and I arrived late to the Ke...   \n",
       "\n",
       "                                        also noticed  \\\n",
       "0  Some tracks in the snow, and a clearing in the...   \n",
       "1  We smelled of colonge and after shave, and one...   \n",
       "2                                    nothing unusual   \n",
       "3  Just these foot prints and how obvious it was ...   \n",
       "4  I did hear what appeared to be grunting in the...   \n",
       "\n",
       "                                     other witnesses  \\\n",
       "0  My two friends were snowmachining behind me bu...   \n",
       "1  4. Me, w-man, warren and sean. We were at my h...   \n",
       "2  Scouting for caribou with high quality binoculars   \n",
       "3  One other witness, and he was fishing prior to...   \n",
       "4  I was the only witness, there was one other in...   \n",
       "\n",
       "                                       other stories  \\\n",
       "0  I have not heard of any other incidents in Anc...   \n",
       "1                                                 no   \n",
       "2                                                NaN   \n",
       "3  I've only heard of one other story, from an ol...   \n",
       "4                                               None   \n",
       "\n",
       "                                 time and conditions  \\\n",
       "0  Middle of the night. The only light was the he...   \n",
       "1  Started at 11, ended at about 3-3 30. Weather ...   \n",
       "2                                                NaN   \n",
       "3     Approximately 12 30 pm, partially coudy/sunny.   \n",
       "4  About 12 00 Midnight / full moon / clear / dim...   \n",
       "\n",
       "                                         environment  \\\n",
       "0  In the middle of the woods, in a clearing cove...   \n",
       "1  A pine forest, with a bog or swamp on the righ...   \n",
       "2  Call Iliamna Air taxi for lat & Long of Long L...   \n",
       "3  Lake front,creek spit, gravel and sand, alder ...   \n",
       "4  This sighting was located at approximately 1 t...   \n",
       "\n",
       "                                               extra          date  \\\n",
       "0  Follow-up investigation report by BFRO Investi...           NaN   \n",
       "1  Follow-up investigation report by BFRO Investi...  Friday night   \n",
       "2                                                NaN             3   \n",
       "3  Follow-up investigation report by BFRO Investi...            20   \n",
       "4  Follow-up investigation report: Summary of com...            16   \n",
       "\n",
       "   see photos from silver star mountain country province  \n",
       "0                                   NaN     NaN      NaN  \n",
       "1                                   NaN     NaN      NaN  \n",
       "2                                   NaN     NaN      NaN  \n",
       "3                                   NaN     NaN      NaN  \n",
       "4                                   NaN     NaN      NaN  "
      ]
     },
     "execution_count": 4,
     "metadata": {},
     "output_type": "execute_result"
    }
   ],
   "source": [
    "df.head()"
   ]
  },
  {
   "cell_type": "code",
   "execution_count": 5,
   "metadata": {},
   "outputs": [
    {
     "data": {
      "text/plain": [
       "(4857, 20)"
      ]
     },
     "execution_count": 5,
     "metadata": {},
     "output_type": "execute_result"
    }
   ],
   "source": [
    "df.shape"
   ]
  },
  {
   "cell_type": "code",
   "execution_count": 22,
   "metadata": {},
   "outputs": [
    {
     "data": {
      "text/plain": [
       "Washington        528\n",
       "California        397\n",
       "Florida           281\n",
       "Ohio              253\n",
       "Oregon            236\n",
       "Illinois          219\n",
       "Michigan          204\n",
       "Texas             200\n",
       "Missouri          129\n",
       "Georgia           120\n",
       "Colorado          118\n",
       "Pennsylvania      108\n",
       "Kentucky          108\n",
       "West Virginia      98\n",
       "New York           98\n",
       "Alabama            91\n",
       "Tennessee          89\n",
       "Arkansas           87\n",
       "Arizona            83\n",
       "Oklahoma           82\n",
       "North Carolina     79\n",
       "Indiana            75\n",
       "Wisconsin          74\n",
       "Virginia           72\n",
       "Minnesota          67\n",
       "Idaho              66\n",
       "New Jersey         59\n",
       "Utah               57\n",
       "Iowa               49\n",
       "Montana            43\n",
       "New Mexico         40\n",
       "Kansas             39\n",
       "Louisiana          39\n",
       "South Carolina     38\n",
       "Maryland           34\n",
       "Wyoming            27\n",
       "Massachusetts      26\n",
       "Mississippi        21\n",
       "Alaska             20\n",
       "Nebraska           14\n",
       "Connecticut        11\n",
       "New Hampshire      11\n",
       "South Dakota       11\n",
       "Maine              10\n",
       "Vermont             8\n",
       "Nevada              7\n",
       "Delaware            5\n",
       "Rhode Island        5\n",
       "North Dakota        4\n",
       "Name: state, dtype: int64"
      ]
     },
     "execution_count": 22,
     "metadata": {},
     "output_type": "execute_result"
    }
   ],
   "source": [
    "df['state'].value_counts()"
   ]
  },
  {
   "cell_type": "code",
   "execution_count": 23,
   "metadata": {},
   "outputs": [],
   "source": [
    "state_counts = df['state'].value_counts()"
   ]
  },
  {
   "cell_type": "code",
   "execution_count": 21,
   "metadata": {},
   "outputs": [
    {
     "data": {
      "text/plain": [
       "Washington        528\n",
       "California        397\n",
       "Florida           281\n",
       "Ohio              253\n",
       "Oregon            236\n",
       "Illinois          219\n",
       "Michigan          204\n",
       "Texas             200\n",
       "Missouri          129\n",
       "Georgia           120\n",
       "Colorado          118\n",
       "Pennsylvania      108\n",
       "Kentucky          108\n",
       "West Virginia      98\n",
       "New York           98\n",
       "Alabama            91\n",
       "Tennessee          89\n",
       "Arkansas           87\n",
       "Arizona            83\n",
       "Oklahoma           82\n",
       "North Carolina     79\n",
       "Indiana            75\n",
       "Wisconsin          74\n",
       "Virginia           72\n",
       "Minnesota          67\n",
       "Idaho              66\n",
       "New Jersey         59\n",
       "Utah               57\n",
       "Iowa               49\n",
       "Montana            43\n",
       "New Mexico         40\n",
       "Kansas             39\n",
       "Louisiana          39\n",
       "South Carolina     38\n",
       "Maryland           34\n",
       "Wyoming            27\n",
       "Massachusetts      26\n",
       "Mississippi        21\n",
       "Alaska             20\n",
       "Nebraska           14\n",
       "Connecticut        11\n",
       "New Hampshire      11\n",
       "South Dakota       11\n",
       "Maine              10\n",
       "Vermont             8\n",
       "Nevada              7\n",
       "Delaware            5\n",
       "Rhode Island        5\n",
       "North Dakota        4\n",
       "Name: state, dtype: int64"
      ]
     },
     "execution_count": 21,
     "metadata": {},
     "output_type": "execute_result"
    }
   ],
   "source": [
    "state_counts"
   ]
  },
  {
   "cell_type": "code",
   "execution_count": 32,
   "metadata": {},
   "outputs": [
    {
     "data": {
      "text/plain": [
       "pandas.core.series.Series"
      ]
     },
     "execution_count": 32,
     "metadata": {},
     "output_type": "execute_result"
    }
   ],
   "source": [
    "type(state_counts)"
   ]
  },
  {
   "cell_type": "code",
   "execution_count": 83,
   "metadata": {},
   "outputs": [
    {
     "data": {
      "text/html": [
       "<div>\n",
       "<style scoped>\n",
       "    .dataframe tbody tr th:only-of-type {\n",
       "        vertical-align: middle;\n",
       "    }\n",
       "\n",
       "    .dataframe tbody tr th {\n",
       "        vertical-align: top;\n",
       "    }\n",
       "\n",
       "    .dataframe thead th {\n",
       "        text-align: right;\n",
       "    }\n",
       "</style>\n",
       "<table border=\"1\" class=\"dataframe\">\n",
       "  <thead>\n",
       "    <tr style=\"text-align: right;\">\n",
       "      <th></th>\n",
       "      <th>state</th>\n",
       "    </tr>\n",
       "  </thead>\n",
       "  <tbody>\n",
       "    <tr>\n",
       "      <th>Washington</th>\n",
       "      <td>528</td>\n",
       "    </tr>\n",
       "    <tr>\n",
       "      <th>California</th>\n",
       "      <td>397</td>\n",
       "    </tr>\n",
       "    <tr>\n",
       "      <th>Florida</th>\n",
       "      <td>281</td>\n",
       "    </tr>\n",
       "    <tr>\n",
       "      <th>Ohio</th>\n",
       "      <td>253</td>\n",
       "    </tr>\n",
       "    <tr>\n",
       "      <th>Oregon</th>\n",
       "      <td>236</td>\n",
       "    </tr>\n",
       "  </tbody>\n",
       "</table>\n",
       "</div>"
      ],
      "text/plain": [
       "            state\n",
       "Washington    528\n",
       "California    397\n",
       "Florida       281\n",
       "Ohio          253\n",
       "Oregon        236"
      ]
     },
     "execution_count": 83,
     "metadata": {},
     "output_type": "execute_result"
    }
   ],
   "source": [
    "state_df = prior_fails = pd.DataFrame(state_counts)\n",
    "state_df.head()"
   ]
  },
  {
   "cell_type": "code",
   "execution_count": 88,
   "metadata": {},
   "outputs": [
    {
     "data": {
      "image/png": "[encoded data removed]",
      "text/plain": [
       "<Figure size 1440x720 with 1 Axes>"
      ]
     },
     "metadata": {
      "needs_background": "light"
     },
     "output_type": "display_data"
    }
   ],
   "source": [
    "top_nums = 10\n",
    "x = state_counts.index.tolist()\n",
    "fig, ax =plt.subplots(figsize=(20,10))\n",
    "ax.plot(x[:top_nums],state_df.iloc[:top_nums,:])\n",
    "ax.scatter(x[:top_nums],state_df.iloc[:top_nums,:])\n",
    "ax.set_xlabel('state', fontsize=20) \n",
    "ax.set_ylabel(' frequency', fontsize=20)\n",
    "ax.set_title('top 10 states', fontsize=20)\n",
    "ax.xaxis.set_tick_params(labelsize=18)\n",
    "ax.yaxis.set_tick_params(labelsize=18)\n",
    "plt.savefig('top_10_states')"
   ]
  },
  {
   "cell_type": "code",
   "execution_count": null,
   "metadata": {},
   "outputs": [],
   "source": []
  }
 ],
 "metadata": {
  "kernelspec": {
   "display_name": "Python 3",
   "language": "python",
   "name": "python3"
  },
  "language_info": {
   "codemirror_mode": {
    "name": "ipython",
    "version": 3
   },
   "file_extension": ".py",
   "mimetype": "text/x-python",
   "name": "python",
   "nbconvert_exporter": "python",
   "pygments_lexer": "ipython3",
   "version": "3.7.6"
  }
 },
 "nbformat": 4,
 "nbformat_minor": 4
}
